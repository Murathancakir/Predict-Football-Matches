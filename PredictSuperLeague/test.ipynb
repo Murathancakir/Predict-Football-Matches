{
 "cells": [
  {
   "cell_type": "code",
   "execution_count": 2,
   "metadata": {},
   "outputs": [
    {
     "ename": "ModuleNotFoundError",
     "evalue": "No module named 'pandas'",
     "output_type": "error",
     "traceback": [
      "\u001b[1;31m---------------------------------------------------------------------------\u001b[0m",
      "\u001b[1;31mModuleNotFoundError\u001b[0m                       Traceback (most recent call last)",
      "\u001b[1;32mc:\\Workspace\\PredictFootballMatches\\PredictSuperLeague\\test.ipynb Cell 1\u001b[0m line \u001b[0;36m1\n\u001b[1;32m----> <a href='vscode-notebook-cell:/c%3A/Workspace/PredictFootballMatches/PredictSuperLeague/test.ipynb#W0sZmlsZQ%3D%3D?line=0'>1</a>\u001b[0m \u001b[39mimport\u001b[39;00m \u001b[39mpandas\u001b[39;00m \u001b[39mas\u001b[39;00m \u001b[39mpd\u001b[39;00m\n\u001b[0;32m      <a href='vscode-notebook-cell:/c%3A/Workspace/PredictFootballMatches/PredictSuperLeague/test.ipynb#W0sZmlsZQ%3D%3D?line=1'>2</a>\u001b[0m \u001b[39mimport\u001b[39;00m \u001b[39mnumpy\u001b[39;00m \u001b[39mas\u001b[39;00m \u001b[39mnp\u001b[39;00m\n\u001b[0;32m      <a href='vscode-notebook-cell:/c%3A/Workspace/PredictFootballMatches/PredictSuperLeague/test.ipynb#W0sZmlsZQ%3D%3D?line=2'>3</a>\u001b[0m \u001b[39mimport\u001b[39;00m \u001b[39mxgboost\u001b[39;00m \u001b[39mas\u001b[39;00m \u001b[39mxgb\u001b[39;00m\n",
      "\u001b[1;31mModuleNotFoundError\u001b[0m: No module named 'pandas'"
     ]
    }
   ],
   "source": [
    "import pandas as pd\n",
    "import numpy as np\n",
    "import xgboost as xgb\n",
    "import pickle\n",
    "import warnings\n",
    "warnings.filterwarnings(\"ignore\")"
   ]
  },
  {
   "cell_type": "code",
   "execution_count": 116,
   "metadata": {},
   "outputs": [
    {
     "name": "stdout",
     "output_type": "stream",
     "text": [
      "Read completed...\n"
     ]
    }
   ],
   "source": [
    "# Read data from csv, excel\n",
    "data = pd.read_csv(r\"C:\\Workspace\\PredictFootballMatches\\PredictSuperLeague\\csv\\turkish_league.csv\")\n",
    "inferenceInput = pd.read_excel(r\"C:\\Workspace\\PredictFootballMatches\\PredictSuperLeague\\csv\\inferenceInput.xlsx\")\n",
    "print(\"Read completed...\")"
   ]
  },
  {
   "cell_type": "code",
   "execution_count": 127,
   "metadata": {},
   "outputs": [],
   "source": [
    "# Filter data to create features\n",
    "turkish_league = data.iloc[:,1:]\n",
    "turkish_league.Season = turkish_league.Season.replace(2223,23)\n",
    "turkish_league.Date = turkish_league.Date.astype('datetime64[ns]')\n",
    "turkish_league.reset_index(drop=True,inplace=True)\n",
    "turkish_league[\"Week\"] = pd.DatetimeIndex(turkish_league['Date']).isocalendar().reset_index().week.astype(int)\n",
    "\n",
    "# Remove redundant values\n",
    "del turkish_league[\"Div\"]\n",
    "turkish_league.dropna(inplace=True)\n",
    "\n",
    "turkish_league = turkish_league.drop(columns=[\"HS\",\"AS\",\"FTR\",\"FTHG\",\"FTAG\",\"HST\",\"AST\",\"HF\",\"AF\",\"HC\",\"AC\",\"HY\",\"AY\",\"HR\",\"AR\"])\n",
    "turkish_league.columns =[\"Season\",\"Date\",\"HomeTeam\",\"AwayTeam\",\"HomeFTGoal\",\"AwayFTGoal\",\"FHResult\",\"HomeBet\",\"AwayBet\",\"DrawBet\",\"Week\"]\n",
    "\n",
    "turkish_league[\"HomeTotalGoal\"] = 0\n",
    "turkish_league[\"AwayTotalGoal\"] = 0\n",
    "\n",
    "inferenceInput.Date = inferenceInput.Date.astype('datetime64[ns]')\n",
    "turkish_league = pd.concat([turkish_league, inferenceInput[turkish_league.columns]],ignore_index=True)\n",
    "\n",
    "week = []\n",
    "for season in turkish_league.Season.unique():\n",
    "    x = 1\n",
    "    for index in turkish_league[turkish_league.Season == season].Week.index:\n",
    "        if index == len(turkish_league) - 1:\n",
    "            break\n",
    "        if (turkish_league.loc[index][\"Week\"]) != (turkish_league.loc[index + 1][\"Week\"]):\n",
    "            x += 1\n",
    "        week.append(x)\n",
    "week.insert(len(turkish_league), x)\n",
    "turkish_league[\"Week\"] = week"
   ]
  },
  {
   "cell_type": "code",
   "execution_count": 133,
   "metadata": {},
   "outputs": [
    {
     "name": "stdout",
     "output_type": "stream",
     "text": [
      "Set condition completed...\n",
      "Merge completed...\n"
     ]
    }
   ],
   "source": [
    "conditions = [(turkish_league.FHResult == \"H\"),(turkish_league.FHResult == \"A\"),(turkish_league.FHResult == \"D\")]\n",
    "values = [1,2,0]\n",
    "turkish_league['FHResult'] = np.select(conditions, values, default=turkish_league['FHResult'])\n",
    "\n",
    "print(\"Set condition completed...\")\n",
    "\n",
    "# Merge with team values\n",
    "values = pd.read_excel(r\"C:\\Workspace\\PredictFootballMatches\\PredictSuperLeague\\csv\\kadrodegerleri2023.xlsx\")\n",
    "\n",
    "turkish_league.replace(\"Buyuksehyr\",\"Basaksehir\",inplace=True)\n",
    "turkish_league.replace(\"Ad. Demirspor\",\"Adana Demirspor\",inplace=True)\n",
    "\n",
    "mergeHome = pd.merge(turkish_league, values, how=\"left\", left_on=[\"HomeTeam\"], right_on=[\"Team\"])\n",
    "turkish_league = pd.merge(mergeHome, values, how=\"left\", left_on=[\"AwayTeam\"], right_on=[\"Team\"],suffixes=[\"HomeTeam\",\"AwayTeam\"])\n",
    "\n",
    "turkish_league = turkish_league.drop([\"TeamAwayTeam\",\"TeamHomeTeam\",\"AgeHomeTeam\",\"AgeAwayTeam\",\"marketValueAwayTeam\",\"marketValueHomeTeam\"],axis=1).sort_values(by=[\"Date\"])\n",
    "\n",
    "print(\"Merge completed...\")"
   ]
  },
  {
   "cell_type": "code",
   "execution_count": 134,
   "metadata": {},
   "outputs": [
    {
     "name": "stdout",
     "output_type": "stream",
     "text": [
      "Calculate parameter completed...\n"
     ]
    }
   ],
   "source": [
    "# Calculate Parameter\n",
    "turkish_league.reset_index(inplace=True,drop=True)\n",
    "\n",
    "homeTeamColumn = \"HomeTeam\"\n",
    "awayTeamColumn = \"AwayTeam\"\n",
    "matchResultColumn = \"FHResult\"\n",
    "HomeGoalsColumn = \"HomeFTGoal\"\n",
    "AwayGoalsColumn = \"AwayFTGoal\"\n",
    "\n",
    "for ind in turkish_league[turkish_league.Season == 23].index:\n",
    "    homeScore = 0\n",
    "    homeScore1 = 0\n",
    "    awayScore = 0\n",
    "    awayScore1 = 0\n",
    "    for ind2 in turkish_league.index[0:ind]:\n",
    "        if (turkish_league.loc[ind2][homeTeamColumn] == turkish_league.loc[ind][homeTeamColumn]):\n",
    "            homeScore = homeScore + turkish_league.loc[ind2][HomeGoalsColumn]\n",
    "\n",
    "        if (turkish_league.loc[ind2][awayTeamColumn] == turkish_league.loc[ind][homeTeamColumn]):\n",
    "            homeScore1 = homeScore1 + turkish_league.loc[ind2][AwayGoalsColumn]\n",
    "        \n",
    "        if (turkish_league.loc[ind2][homeTeamColumn] == turkish_league.loc[ind][awayTeamColumn]):\n",
    "            awayScore = awayScore + turkish_league.loc[ind2][HomeGoalsColumn]\n",
    "\n",
    "        if (turkish_league.loc[ind2][awayTeamColumn] == turkish_league.loc[ind][awayTeamColumn]):\n",
    "            awayScore1 = awayScore1 + turkish_league.loc[ind2][AwayGoalsColumn]\n",
    "\n",
    "    turkish_league.at[ind,\"HomeTotalGoal\"] = homeScore + homeScore1\n",
    "    turkish_league.at[ind,\"AwayTotalGoal\"] = awayScore + awayScore1\n",
    "\n",
    "turkish_league.drop(columns=[\"Date\",HomeGoalsColumn,AwayGoalsColumn],inplace=True)\n",
    "\n",
    "print(\"Calculate parameter completed...\")"
   ]
  },
  {
   "cell_type": "code",
   "execution_count": 179,
   "metadata": {},
   "outputs": [
    {
     "data": {
      "text/plain": [
       "0.45454545454545453"
      ]
     },
     "execution_count": 179,
     "metadata": {},
     "output_type": "execute_result"
    }
   ],
   "source": [
    "N = 348\n",
    "# XGBoost HighLow traning\n",
    "model = xgb.XGBClassifier(max_depth = 2, n_estimators = 200, learning_rate = 0.01,  n_jobs = -1)\n",
    "data = pd.get_dummies(turkish_league, columns=['HomeTeam','AwayTeam','Week'] ,dtype=int)\n",
    "dependantY = \"FHResult\"\n",
    "# Prepare Data\n",
    "X_train = data.loc[:, data.columns != dependantY][:N]\n",
    "y_train = data[dependantY][:N]\n",
    "\n",
    "X_test = data.loc[:, data.columns != dependantY][N:]\n",
    "y_test = data[dependantY][N:]\n",
    "\n",
    "# XG BOOST regression\n",
    "model.fit(X_train, y_train)\n",
    "\n",
    "y_pred = model.predict(X_test)\n",
    "\n",
    "correct_predictions = 0\n",
    "for yt, yp in zip(y_test, y_pred):\n",
    "    if yt == yp:\n",
    "        correct_predictions += 1\n",
    "\n",
    "#returns accuracy\n",
    "correct_predictions / len(y_test)"
   ]
  },
  {
   "cell_type": "code",
   "execution_count": 401,
   "metadata": {},
   "outputs": [
    {
     "data": {
      "text/html": [
       "<style>#sk-container-id-3 {color: black;background-color: white;}#sk-container-id-3 pre{padding: 0;}#sk-container-id-3 div.sk-toggleable {background-color: white;}#sk-container-id-3 label.sk-toggleable__label {cursor: pointer;display: block;width: 100%;margin-bottom: 0;padding: 0.3em;box-sizing: border-box;text-align: center;}#sk-container-id-3 label.sk-toggleable__label-arrow:before {content: \"▸\";float: left;margin-right: 0.25em;color: #696969;}#sk-container-id-3 label.sk-toggleable__label-arrow:hover:before {color: black;}#sk-container-id-3 div.sk-estimator:hover label.sk-toggleable__label-arrow:before {color: black;}#sk-container-id-3 div.sk-toggleable__content {max-height: 0;max-width: 0;overflow: hidden;text-align: left;background-color: #f0f8ff;}#sk-container-id-3 div.sk-toggleable__content pre {margin: 0.2em;color: black;border-radius: 0.25em;background-color: #f0f8ff;}#sk-container-id-3 input.sk-toggleable__control:checked~div.sk-toggleable__content {max-height: 200px;max-width: 100%;overflow: auto;}#sk-container-id-3 input.sk-toggleable__control:checked~label.sk-toggleable__label-arrow:before {content: \"▾\";}#sk-container-id-3 div.sk-estimator input.sk-toggleable__control:checked~label.sk-toggleable__label {background-color: #d4ebff;}#sk-container-id-3 div.sk-label input.sk-toggleable__control:checked~label.sk-toggleable__label {background-color: #d4ebff;}#sk-container-id-3 input.sk-hidden--visually {border: 0;clip: rect(1px 1px 1px 1px);clip: rect(1px, 1px, 1px, 1px);height: 1px;margin: -1px;overflow: hidden;padding: 0;position: absolute;width: 1px;}#sk-container-id-3 div.sk-estimator {font-family: monospace;background-color: #f0f8ff;border: 1px dotted black;border-radius: 0.25em;box-sizing: border-box;margin-bottom: 0.5em;}#sk-container-id-3 div.sk-estimator:hover {background-color: #d4ebff;}#sk-container-id-3 div.sk-parallel-item::after {content: \"\";width: 100%;border-bottom: 1px solid gray;flex-grow: 1;}#sk-container-id-3 div.sk-label:hover label.sk-toggleable__label {background-color: #d4ebff;}#sk-container-id-3 div.sk-serial::before {content: \"\";position: absolute;border-left: 1px solid gray;box-sizing: border-box;top: 0;bottom: 0;left: 50%;z-index: 0;}#sk-container-id-3 div.sk-serial {display: flex;flex-direction: column;align-items: center;background-color: white;padding-right: 0.2em;padding-left: 0.2em;position: relative;}#sk-container-id-3 div.sk-item {position: relative;z-index: 1;}#sk-container-id-3 div.sk-parallel {display: flex;align-items: stretch;justify-content: center;background-color: white;position: relative;}#sk-container-id-3 div.sk-item::before, #sk-container-id-3 div.sk-parallel-item::before {content: \"\";position: absolute;border-left: 1px solid gray;box-sizing: border-box;top: 0;bottom: 0;left: 50%;z-index: -1;}#sk-container-id-3 div.sk-parallel-item {display: flex;flex-direction: column;z-index: 1;position: relative;background-color: white;}#sk-container-id-3 div.sk-parallel-item:first-child::after {align-self: flex-end;width: 50%;}#sk-container-id-3 div.sk-parallel-item:last-child::after {align-self: flex-start;width: 50%;}#sk-container-id-3 div.sk-parallel-item:only-child::after {width: 0;}#sk-container-id-3 div.sk-dashed-wrapped {border: 1px dashed gray;margin: 0 0.4em 0.5em 0.4em;box-sizing: border-box;padding-bottom: 0.4em;background-color: white;}#sk-container-id-3 div.sk-label label {font-family: monospace;font-weight: bold;display: inline-block;line-height: 1.2em;}#sk-container-id-3 div.sk-label-container {text-align: center;}#sk-container-id-3 div.sk-container {/* jupyter's `normalize.less` sets `[hidden] { display: none; }` but bootstrap.min.css set `[hidden] { display: none !important; }` so we also need the `!important` here to be able to override the default hidden behavior on the sphinx rendered scikit-learn.org. See: https://github.com/scikit-learn/scikit-learn/issues/21755 */display: inline-block !important;position: relative;}#sk-container-id-3 div.sk-text-repr-fallback {display: none;}</style><div id=\"sk-container-id-3\" class=\"sk-top-container\"><div class=\"sk-text-repr-fallback\"><pre>XGBClassifier(base_score=None, booster=None, callbacks=None,\n",
       "              colsample_bylevel=None, colsample_bynode=None,\n",
       "              colsample_bytree=None, early_stopping_rounds=None,\n",
       "              enable_categorical=False, eval_metric=None, feature_types=None,\n",
       "              gamma=None, gpu_id=None, grow_policy=None, importance_type=None,\n",
       "              interaction_constraints=None, learning_rate=0.01, max_bin=None,\n",
       "              max_cat_threshold=None, max_cat_to_onehot=None,\n",
       "              max_delta_step=None, max_depth=3, max_leaves=None,\n",
       "              min_child_weight=None, missing=nan, monotone_constraints=None,\n",
       "              n_estimators=300, n_jobs=-1, num_parallel_tree=None,\n",
       "              predictor=None, random_state=None, ...)</pre><b>In a Jupyter environment, please rerun this cell to show the HTML representation or trust the notebook. <br />On GitHub, the HTML representation is unable to render, please try loading this page with nbviewer.org.</b></div><div class=\"sk-container\" hidden><div class=\"sk-item\"><div class=\"sk-estimator sk-toggleable\"><input class=\"sk-toggleable__control sk-hidden--visually\" id=\"sk-estimator-id-3\" type=\"checkbox\" checked><label for=\"sk-estimator-id-3\" class=\"sk-toggleable__label sk-toggleable__label-arrow\">XGBClassifier</label><div class=\"sk-toggleable__content\"><pre>XGBClassifier(base_score=None, booster=None, callbacks=None,\n",
       "              colsample_bylevel=None, colsample_bynode=None,\n",
       "              colsample_bytree=None, early_stopping_rounds=None,\n",
       "              enable_categorical=False, eval_metric=None, feature_types=None,\n",
       "              gamma=None, gpu_id=None, grow_policy=None, importance_type=None,\n",
       "              interaction_constraints=None, learning_rate=0.01, max_bin=None,\n",
       "              max_cat_threshold=None, max_cat_to_onehot=None,\n",
       "              max_delta_step=None, max_depth=3, max_leaves=None,\n",
       "              min_child_weight=None, missing=nan, monotone_constraints=None,\n",
       "              n_estimators=300, n_jobs=-1, num_parallel_tree=None,\n",
       "              predictor=None, random_state=None, ...)</pre></div></div></div></div></div>"
      ],
      "text/plain": [
       "XGBClassifier(base_score=None, booster=None, callbacks=None,\n",
       "              colsample_bylevel=None, colsample_bynode=None,\n",
       "              colsample_bytree=None, early_stopping_rounds=None,\n",
       "              enable_categorical=False, eval_metric=None, feature_types=None,\n",
       "              gamma=None, gpu_id=None, grow_policy=None, importance_type=None,\n",
       "              interaction_constraints=None, learning_rate=0.01, max_bin=None,\n",
       "              max_cat_threshold=None, max_cat_to_onehot=None,\n",
       "              max_delta_step=None, max_depth=3, max_leaves=None,\n",
       "              min_child_weight=None, missing=nan, monotone_constraints=None,\n",
       "              n_estimators=300, n_jobs=-1, num_parallel_tree=None,\n",
       "              predictor=None, random_state=None, ...)"
      ]
     },
     "execution_count": 401,
     "metadata": {},
     "output_type": "execute_result"
    }
   ],
   "source": [
    "# XGBoost HighLow traning\n",
    "model = xgb.XGBClassifier(max_depth = 3, n_estimators = 200, learning_rate = 0.02,  n_jobs = -1, sampling_method='gradient_based')\n",
    "data = pd.get_dummies(turkish_league, columns=['HomeTeam','AwayTeam','Week'] ,dtype=int)\n",
    "dependantY = \"HighLow\"\n",
    "# Prepare Data\n",
    "X = data.loc[:, data.columns != dependantY]\n",
    "y = data[dependantY]\n",
    "\n",
    "# XG BOOST regression\n",
    "model.fit(X, y)\n",
    "\n",
    "# pickle.dump(model, open(\"AlgorithmHighLow.sav\", 'wb'))\n",
    "\n",
    "# print(\"Train completed...\")\n",
    "\n",
    "xgb.plot_importance(model)"
   ]
  },
  {
   "cell_type": "code",
   "execution_count": null,
   "metadata": {},
   "outputs": [],
   "source": []
  }
 ],
 "metadata": {
  "kernelspec": {
   "display_name": "env",
   "language": "python",
   "name": "python3"
  },
  "language_info": {
   "codemirror_mode": {
    "name": "ipython",
    "version": 3
   },
   "file_extension": ".py",
   "mimetype": "text/x-python",
   "name": "python",
   "nbconvert_exporter": "python",
   "pygments_lexer": "ipython3",
   "version": "3.11.1"
  },
  "orig_nbformat": 4
 },
 "nbformat": 4,
 "nbformat_minor": 2
}
